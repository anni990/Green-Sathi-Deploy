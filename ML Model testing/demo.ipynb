{
 "cells": [
  {
   "cell_type": "code",
   "execution_count": null,
   "id": "a11c3b1b",
   "metadata": {},
   "outputs": [],
   "source": [
    "! pip install lightgbm"
   ]
  },
  {
   "cell_type": "code",
   "execution_count": 1,
   "id": "e84a3b52",
   "metadata": {},
   "outputs": [],
   "source": [
    "import joblib\n",
    "import pandas as pd\n",
    "\n",
    "# Load model pipeline (includes preprocessing + model)\n",
    "model = joblib.load(\"crop_prediction_lightgbm (2).pkl\")\n",
    "\n",
    "def predict_crop(distt, state, ph, ec, oc, av_p, av_k, zinc, cu, iron, mn):\n",
    "    # Create input DataFrame with exact column names\n",
    "    input_data = pd.DataFrame([{\n",
    "        'Distt': distt,\n",
    "        'State': state,\n",
    "        'pH(1:2)': ph,\n",
    "        'EC': ec,\n",
    "        '%OC': oc,\n",
    "        'Av P(P2O5)': av_p,\n",
    "        'AvK(K2O)': av_k,\n",
    "        'Zinc': zinc,\n",
    "        'Cu': cu,\n",
    "        'Iron': iron,\n",
    "        'Mn': mn\n",
    "    }])\n",
    "    \n",
    "    # Predict the crop\n",
    "    prediction = model.predict(input_data)\n",
    "\n",
    "    return prediction[0]"
   ]
  },
  {
   "cell_type": "markdown",
   "id": "9ec8c297",
   "metadata": {},
   "source": [
    "result = predict_crop(\n",
    "    distt='narmadapuram',\n",
    "    state='Rajasthan',\n",
    "    ph=9.4,\n",
    "    ec=0.29,\n",
    "    oc=0.50,\n",
    "    av_p=50.00544,\n",
    "    av_k=172.68,        \n",
    "    zinc=4.75,\n",
    "    cu=4.23,\n",
    "    iron=48.11,\n",
    "    mn=15.270\n",
    ")\n",
    "\n",
    "print(\"🌾 Recommended Crop:\", result)"
   ]
  },
  {
   "cell_type": "code",
   "execution_count": null,
   "id": "68b77817",
   "metadata": {},
   "outputs": [],
   "source": []
  }
 ],
 "metadata": {
  "kernelspec": {
   "display_name": ".venv",
   "language": "python",
   "name": "python3"
  },
  "language_info": {
   "codemirror_mode": {
    "name": "ipython",
    "version": 3
   },
   "file_extension": ".py",
   "mimetype": "text/x-python",
   "name": "python",
   "nbconvert_exporter": "python",
   "pygments_lexer": "ipython3",
   "version": "3.10.0"
  }
 },
 "nbformat": 4,
 "nbformat_minor": 5
}
