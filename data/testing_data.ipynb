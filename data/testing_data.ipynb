{
 "cells": [
  {
   "cell_type": "code",
   "execution_count": 3,
   "metadata": {},
   "outputs": [],
   "source": [
    "import os\n",
    "import requests\n",
    "import json\n",
    "from datetime import datetime\n",
    "import mysql.connector\n",
    "from dotenv import load_dotenv\n",
    "import logging\n",
    "import time\n"
   ]
  },
  {
   "cell_type": "code",
   "execution_count": 3,
   "metadata": {},
   "outputs": [
    {
     "data": {
      "text/plain": [
       "True"
      ]
     },
     "execution_count": 3,
     "metadata": {},
     "output_type": "execute_result"
    }
   ],
   "source": [
    "load_dotenv()"
   ]
  },
  {
   "cell_type": "code",
   "execution_count": 7,
   "metadata": {},
   "outputs": [],
   "source": [
    "def fetch_mandi_data():\n",
    "    \"\"\"Fetch complete mandi data from the API using pagination\"\"\"\n",
    "    try:\n",
    "        api_key = os.getenv('MANDI_API_KEY')\n",
    "        if not api_key:\n",
    "            raise ValueError(\"MANDI_API_KEY not found in environment variables\")\n",
    "        \n",
    "\n",
    "        base_url = \"https://api.data.gov.in/resource/35985678-0d79-46b4-9ed6-6f13308a1d24\"\n",
    "        limit = 5000\n",
    "        offset = 0\n",
    "        all_records = []\n",
    "\n",
    "        while True:\n",
    "            url = f\"{base_url}?api-key={api_key}&format=json&limit={limit}&offset={offset}&filters%5BArrival_Date%5D=2025-05-23\"\n",
    "            response = requests.get(url)\n",
    "            response.raise_for_status()\n",
    "\n",
    "            data = response.json()\n",
    "            records = data.get('records', [])\n",
    "\n",
    "            if not records:\n",
    "                break  # No more data to fetch\n",
    "\n",
    "            all_records.extend(records)\n",
    "            logging.info(f\"Fetched {len(records)} records at offset {offset}\")\n",
    "\n",
    "            offset += limit  # Move to next page\n",
    "            time.sleep(1)\n",
    "\n",
    "        return all_records\n",
    "\n",
    "    except Exception as e:\n",
    "        logging.error(f\"Error fetching mandi data: {str(e)}\")\n",
    "        raise\n"
   ]
  },
  {
   "cell_type": "code",
   "execution_count": 8,
   "metadata": {},
   "outputs": [],
   "source": [
    "r = fetch_mandi_data()"
   ]
  },
  {
   "cell_type": "code",
   "execution_count": 9,
   "metadata": {},
   "outputs": [
    {
     "data": {
      "text/plain": [
       "18943"
      ]
     },
     "execution_count": 9,
     "metadata": {},
     "output_type": "execute_result"
    }
   ],
   "source": [
    "len(r)"
   ]
  },
  {
   "cell_type": "code",
   "execution_count": 13,
   "metadata": {},
   "outputs": [],
   "source": [
    "import pandas as pd\n",
    "df = pd.DataFrame(r)"
   ]
  },
  {
   "cell_type": "code",
   "execution_count": 14,
   "metadata": {},
   "outputs": [
    {
     "data": {
      "text/html": [
       "<div>\n",
       "<style scoped>\n",
       "    .dataframe tbody tr th:only-of-type {\n",
       "        vertical-align: middle;\n",
       "    }\n",
       "\n",
       "    .dataframe tbody tr th {\n",
       "        vertical-align: top;\n",
       "    }\n",
       "\n",
       "    .dataframe thead th {\n",
       "        text-align: right;\n",
       "    }\n",
       "</style>\n",
       "<table border=\"1\" class=\"dataframe\">\n",
       "  <thead>\n",
       "    <tr style=\"text-align: right;\">\n",
       "      <th></th>\n",
       "      <th>State</th>\n",
       "      <th>District</th>\n",
       "      <th>Market</th>\n",
       "      <th>Commodity</th>\n",
       "      <th>Variety</th>\n",
       "      <th>Grade</th>\n",
       "      <th>Arrival_Date</th>\n",
       "      <th>Min_Price</th>\n",
       "      <th>Max_Price</th>\n",
       "      <th>Modal_Price</th>\n",
       "      <th>Commodity_Code</th>\n",
       "    </tr>\n",
       "  </thead>\n",
       "  <tbody>\n",
       "    <tr>\n",
       "      <th>0</th>\n",
       "      <td>Madhya Pradesh</td>\n",
       "      <td>Shivpuri</td>\n",
       "      <td>Barad</td>\n",
       "      <td>Groundnut</td>\n",
       "      <td>Big (With Shell)</td>\n",
       "      <td>FAQ</td>\n",
       "      <td>17/05/2025</td>\n",
       "      <td>4000</td>\n",
       "      <td>5030</td>\n",
       "      <td>4600</td>\n",
       "      <td>10</td>\n",
       "    </tr>\n",
       "    <tr>\n",
       "      <th>1</th>\n",
       "      <td>Madhya Pradesh</td>\n",
       "      <td>Neemuch</td>\n",
       "      <td>Neemuch</td>\n",
       "      <td>Coriander(Leaves)</td>\n",
       "      <td>Coriander</td>\n",
       "      <td>FAQ</td>\n",
       "      <td>17/05/2025</td>\n",
       "      <td>6400</td>\n",
       "      <td>7600</td>\n",
       "      <td>7600</td>\n",
       "      <td>43</td>\n",
       "    </tr>\n",
       "    <tr>\n",
       "      <th>2</th>\n",
       "      <td>Madhya Pradesh</td>\n",
       "      <td>Damoh</td>\n",
       "      <td>Damoh</td>\n",
       "      <td>Bengal Gram(Gram)(Whole)</td>\n",
       "      <td>Gram</td>\n",
       "      <td>FAQ</td>\n",
       "      <td>17/05/2025</td>\n",
       "      <td>5155</td>\n",
       "      <td>5855</td>\n",
       "      <td>5670</td>\n",
       "      <td>6</td>\n",
       "    </tr>\n",
       "    <tr>\n",
       "      <th>3</th>\n",
       "      <td>Madhya Pradesh</td>\n",
       "      <td>Shajapur</td>\n",
       "      <td>Shujalpur</td>\n",
       "      <td>Bengal Gram(Gram)(Whole)</td>\n",
       "      <td>Gram</td>\n",
       "      <td>FAQ</td>\n",
       "      <td>17/05/2025</td>\n",
       "      <td>4920</td>\n",
       "      <td>9300</td>\n",
       "      <td>5681</td>\n",
       "      <td>6</td>\n",
       "    </tr>\n",
       "    <tr>\n",
       "      <th>4</th>\n",
       "      <td>Madhya Pradesh</td>\n",
       "      <td>Vidisha</td>\n",
       "      <td>Sironj</td>\n",
       "      <td>Bengal Gram(Gram)(Whole)</td>\n",
       "      <td>Gram</td>\n",
       "      <td>FAQ</td>\n",
       "      <td>17/05/2025</td>\n",
       "      <td>5300</td>\n",
       "      <td>5630</td>\n",
       "      <td>5565</td>\n",
       "      <td>6</td>\n",
       "    </tr>\n",
       "  </tbody>\n",
       "</table>\n",
       "</div>"
      ],
      "text/plain": [
       "            State  District     Market                 Commodity  \\\n",
       "0  Madhya Pradesh  Shivpuri      Barad                 Groundnut   \n",
       "1  Madhya Pradesh   Neemuch    Neemuch         Coriander(Leaves)   \n",
       "2  Madhya Pradesh     Damoh      Damoh  Bengal Gram(Gram)(Whole)   \n",
       "3  Madhya Pradesh  Shajapur  Shujalpur  Bengal Gram(Gram)(Whole)   \n",
       "4  Madhya Pradesh   Vidisha     Sironj  Bengal Gram(Gram)(Whole)   \n",
       "\n",
       "            Variety Grade Arrival_Date Min_Price Max_Price Modal_Price  \\\n",
       "0  Big (With Shell)   FAQ   17/05/2025      4000      5030        4600   \n",
       "1         Coriander   FAQ   17/05/2025      6400      7600        7600   \n",
       "2              Gram   FAQ   17/05/2025      5155      5855        5670   \n",
       "3              Gram   FAQ   17/05/2025      4920      9300        5681   \n",
       "4              Gram   FAQ   17/05/2025      5300      5630        5565   \n",
       "\n",
       "  Commodity_Code  \n",
       "0             10  \n",
       "1             43  \n",
       "2              6  \n",
       "3              6  \n",
       "4              6  "
      ]
     },
     "execution_count": 14,
     "metadata": {},
     "output_type": "execute_result"
    }
   ],
   "source": [
    "df.head(5)"
   ]
  },
  {
   "cell_type": "code",
   "execution_count": 15,
   "metadata": {},
   "outputs": [
    {
     "name": "stdout",
     "output_type": "stream",
     "text": [
      "<class 'pandas.core.frame.DataFrame'>\n",
      "RangeIndex: 18494 entries, 0 to 18493\n",
      "Data columns (total 11 columns):\n",
      " #   Column          Non-Null Count  Dtype \n",
      "---  ------          --------------  ----- \n",
      " 0   State           18494 non-null  object\n",
      " 1   District        18494 non-null  object\n",
      " 2   Market          18494 non-null  object\n",
      " 3   Commodity       18494 non-null  object\n",
      " 4   Variety         18494 non-null  object\n",
      " 5   Grade           18494 non-null  object\n",
      " 6   Arrival_Date    18494 non-null  object\n",
      " 7   Min_Price       18494 non-null  object\n",
      " 8   Max_Price       18494 non-null  object\n",
      " 9   Modal_Price     18494 non-null  object\n",
      " 10  Commodity_Code  18494 non-null  object\n",
      "dtypes: object(11)\n",
      "memory usage: 1.6+ MB\n"
     ]
    }
   ],
   "source": [
    "df.info()"
   ]
  },
  {
   "cell_type": "code",
   "execution_count": null,
   "metadata": {},
   "outputs": [],
   "source": []
  }
 ],
 "metadata": {
  "kernelspec": {
   "display_name": ".venv",
   "language": "python",
   "name": "python3"
  },
  "language_info": {
   "codemirror_mode": {
    "name": "ipython",
    "version": 3
   },
   "file_extension": ".py",
   "mimetype": "text/x-python",
   "name": "python",
   "nbconvert_exporter": "python",
   "pygments_lexer": "ipython3",
   "version": "3.10.0"
  }
 },
 "nbformat": 4,
 "nbformat_minor": 2
}
